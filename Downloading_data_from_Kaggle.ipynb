{
  "nbformat": 4,
  "nbformat_minor": 0,
  "metadata": {
    "colab": {
      "name": "Downloading data from Kaggle.ipynb",
      "provenance": [],
      "collapsed_sections": [],
      "toc_visible": true,
      "authorship_tag": "ABX9TyMRAfBBVhnoUEeReKuQR6Yt",
      "include_colab_link": true
    },
    "kernelspec": {
      "name": "python3",
      "display_name": "Python 3"
    }
  },
  "cells": [
    {
      "cell_type": "markdown",
      "metadata": {
        "id": "view-in-github",
        "colab_type": "text"
      },
      "source": [
        "<a href=\"https://colab.research.google.com/github/gamesMum/get-data_from-kaggle/blob/master/Downloading_data_from_Kaggle.ipynb\" target=\"_parent\"><img src=\"https://colab.research.google.com/assets/colab-badge.svg\" alt=\"Open In Colab\"/></a>"
      ]
    },
    {
      "cell_type": "markdown",
      "metadata": {
        "id": "bd0vb-jL04dt",
        "colab_type": "text"
      },
      "source": [
        "# How to Download dataset from Kaggle in Colab\n",
        "The following is what I found the best approach to download datasets from Kaggel directly in Colab.\n",
        "Note: You'll have to re download everything every time you start a new session.\n",
        "\n",
        "### Steps\n",
        "- download kaggle api by opening your kaggle account (you'll need to create one if you don't have one). Navigate to the follwing URL:\n",
        "`https://www.kaggle.com/[username]/account`\n",
        "and just press `Crteate New API`. Now you have a JSON file that will give you access to all amazing datasets on Kaggle!\n",
        "\n",
        "- Upload the file into Colab and catch up with me below.\n",
        "\n"
      ]
    },
    {
      "cell_type": "code",
      "metadata": {
        "id": "O9TThZVM2kPA",
        "colab_type": "code",
        "colab": {}
      },
      "source": [
        "# importing libraries\n",
        "import json\n",
        "import os"
      ],
      "execution_count": 0,
      "outputs": []
    },
    {
      "cell_type": "code",
      "metadata": {
        "id": "CSmUtHms1nKM",
        "colab_type": "code",
        "colab": {}
      },
      "source": [
        "# read the file you uploaded\n",
        "with open('/content/kaggle.json', 'r') as myfile:\n",
        "    data=myfile.read()\n",
        "# parse file\n",
        "obj = json.loads(data)\n",
        "#get username and key\n",
        "kaggle_key = str(obj['key'])\n",
        "kaggle_username = str(obj['username'])\n"
      ],
      "execution_count": 0,
      "outputs": []
    },
    {
      "cell_type": "markdown",
      "metadata": {
        "id": "getsh6CY3Ixc",
        "colab_type": "text"
      },
      "source": [
        "Now all we need to do is reading the username and key provided for us in the file and choose the dataset we want.\n",
        "You can either copy the dataset URL from the navigation bar from the browser or clicking on the three vertical dots right beside the `New Notebook` button in the dataset page and choose `Copy API Command`"
      ]
    },
    {
      "cell_type": "code",
      "metadata": {
        "id": "bSQDb8Ch0xzB",
        "colab_type": "code",
        "outputId": "79c0b0b9-183f-4846-b3f2-6612fd1c08e9",
        "colab": {
          "base_uri": "https://localhost:8080/",
          "height": 34
        }
      },
      "source": [
        "# parse file\n",
        "obj = json.loads(data)\n",
        "\n",
        "os.environ['KAGGLE_USERNAME'] = kaggle_username # username from the json file\n",
        "os.environ['KAGGLE_KEY'] = kaggle_key # key from the json file\n",
        "\n",
        "!kaggle datasets download -d \"thec03u5/seinfeld-chronicles\" # api copied from kaggle"
      ],
      "execution_count": 27,
      "outputs": [
        {
          "output_type": "stream",
          "text": [
            "seinfeld-chronicles.zip: Skipping, found more recently modified local copy (use --force to force download)\n"
          ],
          "name": "stdout"
        }
      ]
    },
    {
      "cell_type": "code",
      "metadata": {
        "id": "qCRe5BiC6UtS",
        "colab_type": "code",
        "outputId": "592b631a-3436-4e16-87ab-80ac664621a3",
        "colab": {
          "base_uri": "https://localhost:8080/",
          "height": 51
        }
      },
      "source": [
        "#unzip the folder downloaded from kaggle\n",
        "!unzip 'seinfeld-chronicles.zip'"
      ],
      "execution_count": 28,
      "outputs": [
        {
          "output_type": "stream",
          "text": [
            "Archive:  seinfeld-chronicles.zip\n",
            "replace episode_info.csv? [y]es, [n]o, [A]ll, [N]one, [r]ename: N\n"
          ],
          "name": "stdout"
        }
      ]
    },
    {
      "cell_type": "markdown",
      "metadata": {
        "id": "QqOrA0cZ5EiL",
        "colab_type": "text"
      },
      "source": [
        "And there you have it!\n",
        "It might take a long time to download if it is a larg dataset though.\n",
        "And remeber anything you upload to colab will be expired once you cloase the session."
      ]
    },
    {
      "cell_type": "code",
      "metadata": {
        "id": "9pNHsJ3d5Dsk",
        "colab_type": "code",
        "colab": {}
      },
      "source": [
        "data_dir = '/content/scripts.csv'\n",
        "input_file = os.path.join(data_dir)"
      ],
      "execution_count": 0,
      "outputs": []
    },
    {
      "cell_type": "code",
      "metadata": {
        "id": "RO6bjGkr1mVl",
        "colab_type": "code",
        "colab": {}
      },
      "source": [
        " with open(input_file, \"r\") as f:\n",
        "        data = f.read()"
      ],
      "execution_count": 0,
      "outputs": []
    },
    {
      "cell_type": "code",
      "metadata": {
        "id": "ltqwObXf6p42",
        "colab_type": "code",
        "outputId": "c9212823-6f02-4871-d451-60a29f917228",
        "colab": {
          "base_uri": "https://localhost:8080/",
          "height": 547
        }
      },
      "source": [
        "print('\\n'.join(data.split('\\n')[0:30]))"
      ],
      "execution_count": 0,
      "outputs": [
        {
          "output_type": "stream",
          "text": [
            ",Character,Dialogue,EpisodeNo,SEID,Season\n",
            "0,JERRY,\"Do you know what this is all about? Do you know, why were here? To be out, this is out...and out is one of the single most enjoyable experiences of life. People...did you ever hear people talking about We should go out? This is what theyre talking about...this whole thing, were all out now, no one is home. Not one person here is home, were all out! There are people tryin to find us, they dont know where we are. (on an imaginary phone) Did you ring?, I cant find him. Where did he go? He didnt tell me where he was going. He must have gone out. You wanna go out you get ready, you pick out the clothes, right? You take the shower, you get all ready, get the cash, get your friends, the car, the spot, the reservation...Then youre standing around, whatta you do? You go We gotta be getting back. Once youre out, you wanna get back! You wanna go to sleep, you wanna get up, you wanna go out again tomorrow, right? Where ever you are in life, its my feeling, youve gotta go.\",1.0,S01E01,1.0\n",
            "1,JERRY,\"(pointing at Georges shirt) See, to me, that button is in the worst possible spot. The second button literally makes or breaks the shirt, look at it. Its too high! Its in no-mans-land. You look like you live with your mother.\",1.0,S01E01,1.0\n",
            "2,GEORGE,Are you through?,1.0,S01E01,1.0\n",
            "3,JERRY,\"You do of course try on, when you buy?\",1.0,S01E01,1.0\n",
            "4,GEORGE,\"Yes, it was purple, I liked it, I dont actually recall considering the buttons.\",1.0,S01E01,1.0\n",
            "5,JERRY,\"Oh, you dont recall?\",1.0,S01E01,1.0\n",
            "6,GEORGE,\"(on an imaginary microphone) Uh, no, not at this time.\",1.0,S01E01,1.0\n",
            "7,JERRY,\"Well, senator, Id just like to know, what you knew and when you knew it.\",1.0,S01E01,1.0\n",
            "8,CLAIRE,Mr. Seinfeld. Mr. Costanza.,1.0,S01E01,1.0\n",
            "9,GEORGE,\"Are, are you sure this is decaf? Wheres the orange indicator?\",1.0,S01E01,1.0\n",
            "10,CLAIRE,\"Its missing, I have to do it in my head decaf left, regular right, decaf left, regular right...its very challenging work.\",1.0,S01E01,1.0\n",
            "11,JERRY,\"Can you relax, its a cup of coffee. Claire is a professional waitress.\",1.0,S01E01,1.0\n",
            "12,CLAIRE,Trust me George. No one has any interest in seeing you on caffeine.,1.0,S01E01,1.0\n",
            "13,GEORGE,How come youre not doin the second show tomorrow?,1.0,S01E01,1.0\n",
            "14,JERRY,\"Well, theres this uh, woman might be comin in.\",1.0,S01E01,1.0\n",
            "15,GEORGE,\"Wait a second, wait a second, what coming in, what woman is coming in?\",1.0,S01E01,1.0\n",
            "16,JERRY,\"I told you about Laura, the girl I met in Michigan?\",1.0,S01E01,1.0\n",
            "17,GEORGE,\"No, you didnt!\",1.0,S01E01,1.0\n",
            "18,JERRY,\"I thought I told you about it, yes, she teaches political science? I met her the night I did the show in Lansing...\",1.0,S01E01,1.0\n",
            "19,GEORGE,Ha.,1.0,S01E01,1.0\n",
            "20,JERRY,\"(looks in the creamer) Theres no milk in here, what...\",1.0,S01E01,1.0\n",
            "21,GEORGE,\"Wait wait wait, what is she... (takes the milk can from Jerry and puts it on the table) What is she like?\",1.0,S01E01,1.0\n",
            "22,JERRY,\"Oh, shes really great. I mean, shes got like a real warmth about her and shes really bright and really pretty and uh... the conversation though, I mean, it was... talking with her is like talking with you, but, you know, obviously much better.\",1.0,S01E01,1.0\n",
            "23,GEORGE,\"(smiling) So, you know, what, what happened?\",1.0,S01E01,1.0\n",
            "24,JERRY,\"Oh, nothing happened, you know, but is was great.\",1.0,S01E01,1.0\n",
            "25,GEORGE,\"Oh, nothing happened, but it was...\",1.0,S01E01,1.0\n",
            "26,JERRY,Yeah.,1.0,S01E01,1.0\n",
            "27,GEORGE,This is great!,1.0,S01E01,1.0\n",
            "28,JERRY,Yeah.,1.0,S01E01,1.0\n"
          ],
          "name": "stdout"
        }
      ]
    },
    {
      "cell_type": "code",
      "metadata": {
        "id": "TfXct3m_7KF_",
        "colab_type": "code",
        "colab": {}
      },
      "source": [
        ""
      ],
      "execution_count": 0,
      "outputs": []
    }
  ]
}